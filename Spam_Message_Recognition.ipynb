{
  "nbformat": 4,
  "nbformat_minor": 0,
  "metadata": {
    "colab": {
      "name": "Spam-Message-Recognition",
      "provenance": [],
      "toc_visible": true,
      "authorship_tag": "ABX9TyMBVg7hmOhFlK95gDTH7Kkt",
      "include_colab_link": true
    },
    "kernelspec": {
      "name": "python3",
      "display_name": "Python 3"
    },
    "language_info": {
      "name": "python"
    }
  },
  "cells": [
    {
      "cell_type": "markdown",
      "metadata": {
        "id": "view-in-github",
        "colab_type": "text"
      },
      "source": [
        "<a href=\"https://colab.research.google.com/github/mojtabaSefidi/Spam-Message-Recognition/blob/main/Spam_Message_Recognition.ipynb\" target=\"_parent\"><img src=\"https://colab.research.google.com/assets/colab-badge.svg\" alt=\"Open In Colab\"/></a>"
      ]
    },
    {
      "cell_type": "markdown",
      "metadata": {
        "collapsed": false,
        "id": "3mV59qjNYzgk"
      },
      "source": [
        "# Spam Recognition"
      ]
    },
    {
      "cell_type": "markdown",
      "metadata": {
        "collapsed": false,
        "id": "XBhguMiOYzgo"
      },
      "source": [
        "The SMS Spam Collection is a set of SMS tagged messages that have been collected for\n",
        "SMS Spam research. It contains one set of SMS messages in English of 5,574 messages,\n",
        "tagged acording being ham (legitimate) or spam.\n",
        "\n",
        "<b> purpose : Design Model for recognize Spam messages </b>"
      ]
    },
    {
      "cell_type": "markdown",
      "metadata": {
        "collapsed": false,
        "id": "qoYi_AS8Yzgq"
      },
      "source": [
        "## Import the relevant libraries"
      ]
    },
    {
      "cell_type": "code",
      "metadata": {
        "pycharm": {
          "name": "#%%\n"
        },
        "id": "hPv-ijqJYzgr"
      },
      "source": [
        "import pandas as pd\n",
        "import numpy as np\n",
        "import matplotlib.pyplot as plt\n",
        "import seaborn as sn\n",
        "from sklearn.preprocessing import StandardScaler\n",
        "from sklearn.linear_model import LogisticRegression\n",
        "from sklearn.model_selection import train_test_split\n",
        "from sklearn.metrics import confusion_matrix\n",
        "from string import punctuation\n",
        "sn.set()"
      ],
      "execution_count": 3,
      "outputs": []
    },
    {
      "cell_type": "markdown",
      "metadata": {
        "collapsed": false,
        "id": "3N2DR18BYzgs"
      },
      "source": [
        "## Load the Dataset"
      ]
    },
    {
      "cell_type": "code",
      "metadata": {
        "pycharm": {
          "name": "#%%\n"
        },
        "id": "ZAkH4UFxYzgt",
        "colab": {
          "base_uri": "https://localhost:8080/",
          "height": 272
        },
        "outputId": "c7cdaa68-dd1a-40f8-884d-62bfd8896d19"
      },
      "source": [
        "!gdown --id 1gU5LpNVzIesIDPP8vHVqDKRX0btb9fNb\n",
        "sms_dataset = pd.read_csv(\"Spam_Sms_DataSet.txt\", sep='\\t')\n",
        "sms_dataset.head()"
      ],
      "execution_count": 4,
      "outputs": [
        {
          "output_type": "stream",
          "text": [
            "Downloading...\n",
            "From: https://drive.google.com/uc?id=1gU5LpNVzIesIDPP8vHVqDKRX0btb9fNb\n",
            "To: /content/Spam_Sms_DataSet.txt\n",
            "\r  0% 0.00/478k [00:00<?, ?B/s]\r100% 478k/478k [00:00<00:00, 28.6MB/s]\n"
          ],
          "name": "stdout"
        },
        {
          "output_type": "execute_result",
          "data": {
            "text/html": [
              "<div>\n",
              "<style scoped>\n",
              "    .dataframe tbody tr th:only-of-type {\n",
              "        vertical-align: middle;\n",
              "    }\n",
              "\n",
              "    .dataframe tbody tr th {\n",
              "        vertical-align: top;\n",
              "    }\n",
              "\n",
              "    .dataframe thead th {\n",
              "        text-align: right;\n",
              "    }\n",
              "</style>\n",
              "<table border=\"1\" class=\"dataframe\">\n",
              "  <thead>\n",
              "    <tr style=\"text-align: right;\">\n",
              "      <th></th>\n",
              "      <th>label</th>\n",
              "      <th>message</th>\n",
              "    </tr>\n",
              "  </thead>\n",
              "  <tbody>\n",
              "    <tr>\n",
              "      <th>0</th>\n",
              "      <td>ham</td>\n",
              "      <td>Go until jurong point, crazy.. Available only ...</td>\n",
              "    </tr>\n",
              "    <tr>\n",
              "      <th>1</th>\n",
              "      <td>ham</td>\n",
              "      <td>Ok lar... Joking wif u oni...</td>\n",
              "    </tr>\n",
              "    <tr>\n",
              "      <th>2</th>\n",
              "      <td>spam</td>\n",
              "      <td>Free entry in 2 a wkly comp to win FA Cup fina...</td>\n",
              "    </tr>\n",
              "    <tr>\n",
              "      <th>3</th>\n",
              "      <td>ham</td>\n",
              "      <td>U dun say so early hor... U c already then say...</td>\n",
              "    </tr>\n",
              "    <tr>\n",
              "      <th>4</th>\n",
              "      <td>ham</td>\n",
              "      <td>Nah I don't think he goes to usf, he lives aro...</td>\n",
              "    </tr>\n",
              "  </tbody>\n",
              "</table>\n",
              "</div>"
            ],
            "text/plain": [
              "  label                                            message\n",
              "0   ham  Go until jurong point, crazy.. Available only ...\n",
              "1   ham                      Ok lar... Joking wif u oni...\n",
              "2  spam  Free entry in 2 a wkly comp to win FA Cup fina...\n",
              "3   ham  U dun say so early hor... U c already then say...\n",
              "4   ham  Nah I don't think he goes to usf, he lives aro..."
            ]
          },
          "metadata": {},
          "execution_count": 4
        }
      ]
    },
    {
      "cell_type": "markdown",
      "metadata": {
        "collapsed": false,
        "pycharm": {
          "name": "#%% md\n"
        },
        "id": "eSAc1p-Z84YD"
      },
      "source": [
        "## Data Visualization"
      ]
    },
    {
      "cell_type": "code",
      "metadata": {
        "pycharm": {
          "name": "#%%\n"
        },
        "id": "6u9GNnAO84YD",
        "colab": {
          "base_uri": "https://localhost:8080/",
          "height": 173
        },
        "outputId": "02ef199a-618a-478a-aeeb-63132915329f"
      },
      "source": [
        "sms_dataset.describe()"
      ],
      "execution_count": 5,
      "outputs": [
        {
          "output_type": "execute_result",
          "data": {
            "text/html": [
              "<div>\n",
              "<style scoped>\n",
              "    .dataframe tbody tr th:only-of-type {\n",
              "        vertical-align: middle;\n",
              "    }\n",
              "\n",
              "    .dataframe tbody tr th {\n",
              "        vertical-align: top;\n",
              "    }\n",
              "\n",
              "    .dataframe thead th {\n",
              "        text-align: right;\n",
              "    }\n",
              "</style>\n",
              "<table border=\"1\" class=\"dataframe\">\n",
              "  <thead>\n",
              "    <tr style=\"text-align: right;\">\n",
              "      <th></th>\n",
              "      <th>label</th>\n",
              "      <th>message</th>\n",
              "    </tr>\n",
              "  </thead>\n",
              "  <tbody>\n",
              "    <tr>\n",
              "      <th>count</th>\n",
              "      <td>5572</td>\n",
              "      <td>5572</td>\n",
              "    </tr>\n",
              "    <tr>\n",
              "      <th>unique</th>\n",
              "      <td>2</td>\n",
              "      <td>5169</td>\n",
              "    </tr>\n",
              "    <tr>\n",
              "      <th>top</th>\n",
              "      <td>ham</td>\n",
              "      <td>Sorry, I'll call later</td>\n",
              "    </tr>\n",
              "    <tr>\n",
              "      <th>freq</th>\n",
              "      <td>4825</td>\n",
              "      <td>30</td>\n",
              "    </tr>\n",
              "  </tbody>\n",
              "</table>\n",
              "</div>"
            ],
            "text/plain": [
              "       label                 message\n",
              "count   5572                    5572\n",
              "unique     2                    5169\n",
              "top      ham  Sorry, I'll call later\n",
              "freq    4825                      30"
            ]
          },
          "metadata": {},
          "execution_count": 5
        }
      ]
    },
    {
      "cell_type": "code",
      "metadata": {
        "pycharm": {
          "name": "#%%\n"
        },
        "id": "V8fP4DDh84YE",
        "colab": {
          "base_uri": "https://localhost:8080/",
          "height": 301
        },
        "outputId": "63bb2fe7-be1f-4b1d-af66-6c21f663c3d2"
      },
      "source": [
        "sn.countplot(data = sms_dataset, x= sms_dataset[\"label\"]).set_title(\"Amount of spam and no-spam messages\")\n",
        "plt.show()"
      ],
      "execution_count": 6,
      "outputs": [
        {
          "output_type": "display_data",
          "data": {
            "image/png": "[encoded data removed]",
            "text/plain": [
              "<Figure size 432x288 with 1 Axes>"
            ]
          },
          "metadata": {}
        }
      ]
    },
    {
      "cell_type": "markdown",
      "metadata": {
        "collapsed": false,
        "id": "hCata46j84YE"
      },
      "source": [
        "## PreProcessing"
      ]
    },
    {
      "cell_type": "code",
      "metadata": {
        "pycharm": {
          "name": "#%%\n"
        },
        "id": "0lz4J2zb84YE",
        "outputId": "332c39d5-f58d-4970-8aa5-37f364844226"
      },
      "source": [
        "\n",
        "print(list(punctuation))\n",
        "\n",
        "def lowercase_strip(string):\n",
        "    for sign in list (punctuation):\n",
        "        string = string.lower().replace(sign,\" \")\n",
        "    return string\n",
        "\n",
        "def word_count(string):\n",
        "    return len(string.split())\n",
        "\n",
        "def char_count(string):\n",
        "    return len(list(string))"
      ],
      "execution_count": null,
      "outputs": [
        {
          "name": "stdout",
          "output_type": "stream",
          "text": [
            "['!', '\"', '#', '$', '%', '&', \"'\", '(', ')', '*', '+', ',', '-', '.', '/', ':', ';', '<', '=', '>', '?', '@', '[', '\\\\', ']', '^', '_', '`', '{', '|', '}', '~']\n"
          ]
        }
      ]
    },
    {
      "cell_type": "markdown",
      "metadata": {
        "collapsed": false,
        "id": "GCR5dtCK84YF"
      },
      "source": [
        "#### Count Number of Words & Character in each message"
      ]
    },
    {
      "cell_type": "code",
      "metadata": {
        "pycharm": {
          "name": "#%%\n"
        },
        "id": "FWfnS_8S84YF"
      },
      "source": [
        "sms_dataset[\"label\"] = sms_dataset[\"label\"].map({'ham':0,\"spam\":1})\n",
        "sms_dataset['message'] = sms_dataset.message.apply(lowercase_strip)\n",
        "sms_dataset['Number of Words'] = sms_dataset.message.apply(word_count)\n",
        "sms_dataset['Number of Character'] = sms_dataset.message.apply(char_count)"
      ],
      "execution_count": null,
      "outputs": []
    },
    {
      "cell_type": "code",
      "metadata": {
        "pycharm": {
          "name": "#%%\n"
        },
        "id": "3eIEEDXH84YF",
        "outputId": "216b2291-3cc2-44ee-d553-85b62f46693c"
      },
      "source": [
        "sms_dataset.head()"
      ],
      "execution_count": null,
      "outputs": [
        {
          "data": {
            "text/plain": "   label                                            message  Number of Words  \\\n0      0  go until jurong point  crazy   available only ...               20   \n1      0                      ok lar    joking wif u oni                   6   \n2      1  free entry in 2 a wkly comp to win fa cup fina...               33   \n3      0  u dun say so early hor    u c already then say                  11   \n4      0  nah i don t think he goes to usf  he lives aro...               14   \n\n   Number of Character  \n0                  111  \n1                   29  \n2                  155  \n3                   49  \n4                   61  ",
            "text/html": "<div>\n<style scoped>\n    .dataframe tbody tr th:only-of-type {\n        vertical-align: middle;\n    }\n\n    .dataframe tbody tr th {\n        vertical-align: top;\n    }\n\n    .dataframe thead th {\n        text-align: right;\n    }\n</style>\n<table border=\"1\" class=\"dataframe\">\n  <thead>\n    <tr style=\"text-align: right;\">\n      <th></th>\n      <th>label</th>\n      <th>message</th>\n      <th>Number of Words</th>\n      <th>Number of Character</th>\n    </tr>\n  </thead>\n  <tbody>\n    <tr>\n      <th>0</th>\n      <td>0</td>\n      <td>go until jurong point  crazy   available only ...</td>\n      <td>20</td>\n      <td>111</td>\n    </tr>\n    <tr>\n      <th>1</th>\n      <td>0</td>\n      <td>ok lar    joking wif u oni</td>\n      <td>6</td>\n      <td>29</td>\n    </tr>\n    <tr>\n      <th>2</th>\n      <td>1</td>\n      <td>free entry in 2 a wkly comp to win fa cup fina...</td>\n      <td>33</td>\n      <td>155</td>\n    </tr>\n    <tr>\n      <th>3</th>\n      <td>0</td>\n      <td>u dun say so early hor    u c already then say</td>\n      <td>11</td>\n      <td>49</td>\n    </tr>\n    <tr>\n      <th>4</th>\n      <td>0</td>\n      <td>nah i don t think he goes to usf  he lives aro...</td>\n      <td>14</td>\n      <td>61</td>\n    </tr>\n  </tbody>\n</table>\n</div>"
          },
          "execution_count": 142,
          "metadata": {},
          "output_type": "execute_result"
        }
      ]
    },
    {
      "cell_type": "markdown",
      "metadata": {
        "collapsed": false,
        "id": "YBQNLhvm84YG"
      },
      "source": [
        "### New Feature Visualization"
      ]
    },
    {
      "cell_type": "code",
      "metadata": {
        "pycharm": {
          "name": "#%%\n"
        },
        "id": "kusG-Bgc84YG",
        "outputId": "e2380a89-a7dc-4b90-ed8b-8c79159a4218"
      },
      "source": [
        "sms_dataset.describe()"
      ],
      "execution_count": null,
      "outputs": [
        {
          "data": {
            "text/plain": "             label  Number of Words  Number of Character\ncount  5572.000000      5572.000000          5572.000000\nmean      0.134063        16.205492            80.489950\nstd       0.340751        11.785339            59.942907\nmin       0.000000         0.000000             2.000000\n25%       0.000000         8.000000            36.000000\n50%       0.000000        13.000000            62.000000\n75%       0.000000        24.000000           122.000000\nmax       1.000000       190.000000           910.000000",
            "text/html": "<div>\n<style scoped>\n    .dataframe tbody tr th:only-of-type {\n        vertical-align: middle;\n    }\n\n    .dataframe tbody tr th {\n        vertical-align: top;\n    }\n\n    .dataframe thead th {\n        text-align: right;\n    }\n</style>\n<table border=\"1\" class=\"dataframe\">\n  <thead>\n    <tr style=\"text-align: right;\">\n      <th></th>\n      <th>label</th>\n      <th>Number of Words</th>\n      <th>Number of Character</th>\n    </tr>\n  </thead>\n  <tbody>\n    <tr>\n      <th>count</th>\n      <td>5572.000000</td>\n      <td>5572.000000</td>\n      <td>5572.000000</td>\n    </tr>\n    <tr>\n      <th>mean</th>\n      <td>0.134063</td>\n      <td>16.205492</td>\n      <td>80.489950</td>\n    </tr>\n    <tr>\n      <th>std</th>\n      <td>0.340751</td>\n      <td>11.785339</td>\n      <td>59.942907</td>\n    </tr>\n    <tr>\n      <th>min</th>\n      <td>0.000000</td>\n      <td>0.000000</td>\n      <td>2.000000</td>\n    </tr>\n    <tr>\n      <th>25%</th>\n      <td>0.000000</td>\n      <td>8.000000</td>\n      <td>36.000000</td>\n    </tr>\n    <tr>\n      <th>50%</th>\n      <td>0.000000</td>\n      <td>13.000000</td>\n      <td>62.000000</td>\n    </tr>\n    <tr>\n      <th>75%</th>\n      <td>0.000000</td>\n      <td>24.000000</td>\n      <td>122.000000</td>\n    </tr>\n    <tr>\n      <th>max</th>\n      <td>1.000000</td>\n      <td>190.000000</td>\n      <td>910.000000</td>\n    </tr>\n  </tbody>\n</table>\n</div>"
          },
          "execution_count": 143,
          "metadata": {},
          "output_type": "execute_result"
        }
      ]
    },
    {
      "cell_type": "markdown",
      "metadata": {
        "collapsed": false,
        "id": "0egvR20u84YG"
      },
      "source": [
        "#### Words Count : Ham vs Spam"
      ]
    },
    {
      "cell_type": "code",
      "metadata": {
        "pycharm": {
          "name": "#%%\n"
        },
        "id": "s3YePV5A84YG",
        "outputId": "36e09266-f6af-4384-d437-bcadfef1ea62"
      },
      "source": [
        "fig = plt.figure(figsize=(9,12))\n",
        "ax1 = fig.add_subplot(2, 1, 2)\n",
        "bins = np.histogram(np.hstack((sms_dataset.loc[sms_dataset.label==0]['Number of Words'], sms_dataset.loc[sms_dataset.label==1]['Number of Words'])), bins=70)[1]\n",
        "plt.hist(sms_dataset.loc[sms_dataset.label==0]['Number of Words'], bins, density=True, color='#17becf', alpha=0.8, label='ham')\n",
        "plt.hist(sms_dataset.loc[sms_dataset.label==1]['Number of Words'], bins, density=True, color='#ff7f0e', alpha=0.8, label='spam')\n",
        "plt.legend(loc='upper right')\n",
        "plt.xlim(0, 60)\n",
        "plt.xlabel('Word Count: ham vs spam')\n",
        "plt.ylabel('Probability')\n",
        "plt.title('Word Count: Ham vs Spam')\n",
        "\n",
        "ax1.spines['top'].set_visible(False)\n",
        "ax1.spines['right'].set_visible(False)\n",
        "plt.subplots_adjust(hspace=0.5)"
      ],
      "execution_count": null,
      "outputs": [
        {
          "data": {
            "text/plain": "<Figure size 648x864 with 1 Axes>",
            "image/png": "[encoded data removed]"
          },
          "metadata": {},
          "output_type": "display_data"
        }
      ]
    },
    {
      "cell_type": "markdown",
      "metadata": {
        "collapsed": false,
        "id": "f3-VzfA984YH"
      },
      "source": [
        "#### Characters Count : Ham vs Spam"
      ]
    },
    {
      "cell_type": "code",
      "metadata": {
        "pycharm": {
          "name": "#%%\n"
        },
        "id": "rChdmT2R84YH",
        "outputId": "a881455e-c75f-4859-daf5-238cd6d24d41"
      },
      "source": [
        "fig = plt.figure(figsize=(9,12))\n",
        "ax2 = fig.add_subplot(2, 1, 2)\n",
        "bins = np.histogram(np.hstack((sms_dataset.loc[sms_dataset.label==0][\"Number of Character\"], sms_dataset.loc[sms_dataset.label== 1][\"Number of Character\"])), bins=70)[1]\n",
        "plt.hist(sms_dataset.loc[sms_dataset.label== 0][\"Number of Character\"], bins, density=True, color='#17becf', alpha=0.8, label='ham')\n",
        "plt.hist(sms_dataset.loc[sms_dataset.label== 1][\"Number of Character\"], bins, density=True, color='#ff7f0e', alpha=0.8, label='spam')\n",
        "plt.legend(loc='upper right')\n",
        "plt.xlim(0, 300)\n",
        "plt.xlabel('Character Count: ham vs spam')\n",
        "plt.ylabel('Probability')\n",
        "plt.title('Character Count: Ham vs Spam')\n",
        "\n",
        "ax2.spines['top'].set_visible(False)\n",
        "ax2.spines['right'].set_visible(False)\n",
        "plt.subplots_adjust(hspace=0.5)"
      ],
      "execution_count": null,
      "outputs": [
        {
          "data": {
            "text/plain": "<Figure size 648x864 with 1 Axes>",
            "image/png": "[encoded data removed]"
          },
          "metadata": {},
          "output_type": "display_data"
        }
      ]
    }
  ]
}